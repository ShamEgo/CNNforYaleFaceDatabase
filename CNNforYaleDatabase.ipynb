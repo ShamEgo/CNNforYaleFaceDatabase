{
  "nbformat": 4,
  "nbformat_minor": 0,
  "metadata": {
    "colab": {
      "name": "CNNforYaleDatabase",
      "provenance": [],
      "authorship_tag": "ABX9TyODaXg2VNJefdo6kqQkRTe1",
      "include_colab_link": true
    },
    "kernelspec": {
      "name": "python3",
      "display_name": "Python 3"
    }
  },
  "cells": [
    {
      "cell_type": "markdown",
      "metadata": {
        "id": "view-in-github",
        "colab_type": "text"
      },
      "source": [
        "<a href=\"https://colab.research.google.com/github/ShamEgo/YaleFaceColab/blob/master/CNNforYaleDatabase.ipynb\" target=\"_parent\"><img src=\"https://colab.research.google.com/assets/colab-badge.svg\" alt=\"Open In Colab\"/></a>"
      ]
    },
    {
      "cell_type": "code",
      "metadata": {
        "id": "AB7uuq1bSCUk",
        "colab_type": "code",
        "colab": {
          "base_uri": "https://localhost:8080/",
          "height": 131
        },
        "outputId": "5f1b52d7-6540-480e-9547-94d47749f7fa"
      },
      "source": [
        "from google.colab import drive \n",
        "drive.mount('/content/gdrive')"
      ],
      "execution_count": 1,
      "outputs": [
        {
          "output_type": "stream",
          "text": [
            "Go to this URL in a browser: https://accounts.google.com/o/oauth2/auth?client_id=947318989803-6bn6qk8qdgf4n4g3pfee6491hc0brc4i.apps.googleusercontent.com&redirect_uri=urn%3aietf%3awg%3aoauth%3a2.0%3aoob&response_type=code&scope=email%20https%3a%2f%2fwww.googleapis.com%2fauth%2fdocs.test%20https%3a%2f%2fwww.googleapis.com%2fauth%2fdrive%20https%3a%2f%2fwww.googleapis.com%2fauth%2fdrive.photos.readonly%20https%3a%2f%2fwww.googleapis.com%2fauth%2fpeopleapi.readonly\n",
            "\n",
            "Enter your authorization code:\n",
            "··········\n",
            "Mounted at /content/gdrive\n"
          ],
          "name": "stdout"
        }
      ]
    },
    {
      "cell_type": "code",
      "metadata": {
        "id": "F2iDFIa-SReO",
        "colab_type": "code",
        "colab": {
          "base_uri": "https://localhost:8080/",
          "height": 36
        },
        "outputId": "7a4ce53a-abb5-424d-fb36-284caffaf29c"
      },
      "source": [
        "cd \"/content/gdrive/My Drive/Colab Notebooks/Stuff that wokrs/CNN for Yale database/yalefaces\""
      ],
      "execution_count": 2,
      "outputs": [
        {
          "output_type": "stream",
          "text": [
            "/content/gdrive/My Drive/Colab Notebooks/Stuff that wokrs/CNN for Yale database/yalefaces\n"
          ],
          "name": "stdout"
        }
      ]
    },
    {
      "cell_type": "code",
      "metadata": {
        "id": "i9Mj5FA6Rz0s",
        "colab_type": "code",
        "colab": {}
      },
      "source": [
        "import keras\n",
        "from os import listdir\n",
        "from os.path import isfile, join\n",
        "import numpy as np\n",
        "import pandas as pd\n",
        "import matplotlib.pyplot as plt\n",
        "from sklearn.preprocessing import normalize\n",
        "from tensorflow.python.keras.layers import Convolution2D as Conv2D\n",
        "from tensorflow.python.keras.layers import MaxPooling2D,Dense,Flatten\n",
        "import cv2\n",
        "from tensorflow.python.keras.optimizers import SGD\n",
        "from sklearn.multiclass import OneVsRestClassifier\n",
        "from PIL import Image\n",
        "import glob\n",
        "import os\n",
        "from sklearn.preprocessing import LabelEncoder, OneHotEncoder\n",
        "from sklearn.model_selection import train_test_split\n",
        "from sklearn import decomposition\n",
        "from sklearn.metrics import accuracy_score\n",
        "from sklearn import metrics\n",
        "from sklearn.discriminant_analysis import LinearDiscriminantAnalysis as LDA\n",
        "from sklearn.svm import SVC\n",
        "from tensorflow.python.keras.models import Sequential\n",
        "import matplotlib.pyplot as plt\n",
        "from keras.layers.advanced_activations import LeakyReLU"
      ],
      "execution_count": 3,
      "outputs": []
    },
    {
      "cell_type": "code",
      "metadata": {
        "id": "u5cGH5hNUZft",
        "colab_type": "code",
        "colab": {}
      },
      "source": [
        "mypath='/content/gdrive/My Drive/Colab Notebooks/Stuff that wokrs/CNN for Yale database/yalefaces'\n",
        "onlyfiles = [ f for f in listdir(mypath) if isfile(join(mypath,f)) ]\n",
        "\n",
        "#change extension of files\n",
        "'''\n",
        "files = os.listdir(path)\n",
        "for file in files:\n",
        "    os.rename(os.path.join(mypath, file), os.path.join(mypath,file+'.jpg'))\n",
        "'''\n",
        "\n",
        "#construct the label list\n",
        "listmot=[]\n",
        "for mot in onlyfiles:\n",
        "    listmot.append(mot.split('.'))\n",
        "\n",
        "\n",
        "\n",
        "y=[]\n",
        "for mot in listmot:\n",
        "    y.append(mot[0].split(\"t\")[1])\n",
        "\n",
        "lc= LabelEncoder()\n",
        "y = lc.fit_transform(y)\n",
        "image_list = []\n",
        "image_toarray=[]\n",
        "for filename in glob.glob('/content/gdrive/My Drive/Colab Notebooks/Stuff that wokrs/CNN for Yale database/yalefaces/*'): \n",
        "    im=Image.open(filename)\n",
        "    image_list.append(im)\n",
        "    image_toarray.append(np.array(im))\n",
        "image_toarray= np.array(image_toarray)"
      ],
      "execution_count": 4,
      "outputs": []
    },
    {
      "cell_type": "code",
      "metadata": {
        "id": "MGNqv9UaRyEe",
        "colab_type": "code",
        "colab": {
          "base_uri": "https://localhost:8080/",
          "height": 766
        },
        "outputId": "3ea54162-3be2-411c-97c9-c066bdc85815"
      },
      "source": [
        "#splitting dataset for training and testing\n",
        "X_train,X_test,y_train,y_test=train_test_split(image_toarray,y,train_size=0.25)\n",
        "X_train=X_train.reshape(-1,243,320,1)\n",
        "X_test=X_test.reshape(-1,243,320,1)\n",
        "X_train= X_train.astype('float32')\n",
        "X_test= X_test.astype('float32')\n",
        "X_train= X_train / 255.\n",
        "X_test= X_test / 255.\n",
        "\n",
        "#NN model\n",
        "model = Sequential()\n",
        "model.add(Conv2D(32, kernel_size=(3, 3),activation='linear',input_shape=(243,320,1),padding='same'))\n",
        "model.add(MaxPooling2D((2, 2),padding='same'))\n",
        "model.add(Conv2D(64, (3, 3), activation='linear',padding='same'))\n",
        "model.add(MaxPooling2D(pool_size=(2, 2),padding='same'))\n",
        "model.add(Conv2D(128, (3, 3), activation='linear',padding='same'))\n",
        "model.add(MaxPooling2D(pool_size=(2, 2),padding='same'))\n",
        "model.add(Flatten())\n",
        "model.add(Dense(128, activation='linear'))\n",
        "model.add(Dense(15, activation='softmax'))\n",
        "model.compile(loss='sparse_categorical_crossentropy',\n",
        "              metrics=['accuracy'])\n",
        "\n",
        "#train model\n",
        "history=model.fit(X_train,y_train,epochs=20,batch_size=20)\n"
      ],
      "execution_count": 18,
      "outputs": [
        {
          "output_type": "stream",
          "text": [
            "Epoch 1/20\n",
            "3/3 [==============================] - 3s 1s/step - loss: 139.4376 - accuracy: 0.1951\n",
            "Epoch 2/20\n",
            "3/3 [==============================] - 3s 993ms/step - loss: 292.0537 - accuracy: 0.1220\n",
            "Epoch 3/20\n",
            "3/3 [==============================] - 3s 1s/step - loss: 74.8771 - accuracy: 0.1220\n",
            "Epoch 4/20\n",
            "3/3 [==============================] - 3s 1s/step - loss: 37.5764 - accuracy: 0.0732\n",
            "Epoch 5/20\n",
            "3/3 [==============================] - 3s 1s/step - loss: 43.6546 - accuracy: 0.0732\n",
            "Epoch 6/20\n",
            "3/3 [==============================] - 3s 1s/step - loss: 15.8021 - accuracy: 0.1951\n",
            "Epoch 7/20\n",
            "3/3 [==============================] - 3s 1s/step - loss: 19.4365 - accuracy: 0.1220\n",
            "Epoch 8/20\n",
            "3/3 [==============================] - 3s 1s/step - loss: 27.9124 - accuracy: 0.1951\n",
            "Epoch 9/20\n",
            "3/3 [==============================] - 3s 1s/step - loss: 3.7714 - accuracy: 0.5122\n",
            "Epoch 10/20\n",
            "3/3 [==============================] - 3s 1s/step - loss: 1.2517 - accuracy: 0.8293\n",
            "Epoch 11/20\n",
            "3/3 [==============================] - 3s 1s/step - loss: 0.7541 - accuracy: 0.8537\n",
            "Epoch 12/20\n",
            "3/3 [==============================] - 3s 1s/step - loss: 0.2062 - accuracy: 0.9756\n",
            "Epoch 13/20\n",
            "3/3 [==============================] - 3s 1s/step - loss: 0.1255 - accuracy: 1.0000\n",
            "Epoch 14/20\n",
            "3/3 [==============================] - 3s 1s/step - loss: 0.1190 - accuracy: 1.0000\n",
            "Epoch 15/20\n",
            "3/3 [==============================] - 3s 1s/step - loss: 3.3350 - accuracy: 0.5610\n",
            "Epoch 16/20\n",
            "3/3 [==============================] - 3s 1s/step - loss: 2.3061 - accuracy: 0.5854\n",
            "Epoch 17/20\n",
            "3/3 [==============================] - 3s 1s/step - loss: 0.4999 - accuracy: 0.9268\n",
            "Epoch 18/20\n",
            "3/3 [==============================] - 3s 1s/step - loss: 0.0701 - accuracy: 0.9512\n",
            "Epoch 19/20\n",
            "3/3 [==============================] - 3s 1s/step - loss: 0.0256 - accuracy: 1.0000\n",
            "Epoch 20/20\n",
            "3/3 [==============================] - 3s 1s/step - loss: 0.0132 - accuracy: 1.0000\n"
          ],
          "name": "stdout"
        }
      ]
    },
    {
      "cell_type": "code",
      "metadata": {
        "id": "4KieSzWwAchi",
        "colab_type": "code",
        "colab": {
          "base_uri": "https://localhost:8080/",
          "height": 504
        },
        "outputId": "588a0ee1-9886-4688-fc3e-f838ae1f5fd3"
      },
      "source": [
        "#visualize NN model\n",
        "model.summary()"
      ],
      "execution_count": 12,
      "outputs": [
        {
          "output_type": "stream",
          "text": [
            "Model: \"sequential_1\"\n",
            "_________________________________________________________________\n",
            "Layer (type)                 Output Shape              Param #   \n",
            "=================================================================\n",
            "conv2d_3 (Conv2D)            (None, 243, 320, 32)      320       \n",
            "_________________________________________________________________\n",
            "max_pooling2d_3 (MaxPooling2 (None, 122, 160, 32)      0         \n",
            "_________________________________________________________________\n",
            "conv2d_4 (Conv2D)            (None, 122, 160, 64)      18496     \n",
            "_________________________________________________________________\n",
            "max_pooling2d_4 (MaxPooling2 (None, 61, 80, 64)        0         \n",
            "_________________________________________________________________\n",
            "conv2d_5 (Conv2D)            (None, 61, 80, 128)       73856     \n",
            "_________________________________________________________________\n",
            "max_pooling2d_5 (MaxPooling2 (None, 31, 40, 128)       0         \n",
            "_________________________________________________________________\n",
            "flatten_1 (Flatten)          (None, 158720)            0         \n",
            "_________________________________________________________________\n",
            "dense_2 (Dense)              (None, 128)               20316288  \n",
            "_________________________________________________________________\n",
            "dense_3 (Dense)              (None, 15)                1935      \n",
            "=================================================================\n",
            "Total params: 20,410,895\n",
            "Trainable params: 20,410,895\n",
            "Non-trainable params: 0\n",
            "_________________________________________________________________\n"
          ],
          "name": "stdout"
        }
      ]
    },
    {
      "cell_type": "code",
      "metadata": {
        "id": "G7ZpT_OYp9bl",
        "colab_type": "code",
        "colab": {
          "base_uri": "https://localhost:8080/",
          "height": 295
        },
        "outputId": "b19e6763-3f70-460c-a60d-0a07e37ff2d9"
      },
      "source": [
        "#plotting loss function\n",
        "import matplotlib.pyplot as plt\n",
        "loss = history.history['loss']\n",
        "epochs = range(1, len(loss) + 1)\n",
        "plt.plot(epochs, loss, color='red', label='Training loss')\n",
        "plt.title('Training loss')\n",
        "plt.xlabel('Epochs')\n",
        "plt.ylabel('Loss')\n",
        "plt.legend()\n",
        "plt.show()\n",
        "\n"
      ],
      "execution_count": 20,
      "outputs": [
        {
          "output_type": "display_data",
          "data": {
            "image/png": "[encoded data removed]",
            "text/plain": [
              "<Figure size 432x288 with 1 Axes>"
            ]
          },
          "metadata": {
            "tags": [],
            "needs_background": "light"
          }
        }
      ]
    },
    {
      "cell_type": "code",
      "metadata": {
        "id": "19bY3iDv8pjw",
        "colab_type": "code",
        "colab": {
          "base_uri": "https://localhost:8080/",
          "height": 295
        },
        "outputId": "cd6a85b0-75c5-45bf-9776-af9a5ee93f25"
      },
      "source": [
        "#plotting accuaracy\n",
        "val_loss = history.history['accuracy'] \n",
        "plt.plot(epochs, val_loss, color='green', label='Accuracy')\n",
        "plt.title('Accuracy')\n",
        "plt.xlabel('Epochs')\n",
        "plt.ylabel('Accuracy')\n",
        "plt.legend()\n",
        "plt.show()"
      ],
      "execution_count": 23,
      "outputs": [
        {
          "output_type": "display_data",
          "data": {
            "image/png": "[encoded data removed]",
            "text/plain": [
              "<Figure size 432x288 with 1 Axes>"
            ]
          },
          "metadata": {
            "tags": [],
            "needs_background": "light"
          }
        }
      ]
    },
    {
      "cell_type": "code",
      "metadata": {
        "id": "EHGSozYpkT0M",
        "colab_type": "code",
        "colab": {
          "base_uri": "https://localhost:8080/",
          "height": 92
        },
        "outputId": "ddbacfb0-3a8a-49c7-ac9b-89d53bbbff0a"
      },
      "source": [
        "#testing model\n",
        "test_eval =model.evaluate(X_test, y_test)\n",
        "print('Test loss:', test_eval[0])\n",
        "print('Test accuracy:', test_eval[1])\n",
        "predicted_classes =model.predict(X_test)\n",
        "predicted_classes = np.argmax(np.round(predicted_classes),axis=1)\n",
        "correct = np.where(predicted_classes==y_test)[0]\n",
        "print( \"%d correct labels found from %d \" % (len(correct),len(X_test)))"
      ],
      "execution_count": 22,
      "outputs": [
        {
          "output_type": "stream",
          "text": [
            "4/4 [==============================] - 3s 853ms/step - loss: 1.6815 - accuracy: 0.6504\n",
            "Test loss: 1.6815060377120972\n",
            "Test accuracy: 0.6504064798355103\n",
            "78 correct labels found from 123 \n"
          ],
          "name": "stdout"
        }
      ]
    }
  ]
}